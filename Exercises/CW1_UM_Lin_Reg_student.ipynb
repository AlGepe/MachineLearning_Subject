{
 "cells": [
  {
   "cell_type": "markdown",
   "metadata": {},
   "source": [
    "# Powtórka podstawowych rachunków wektorowych i macierzowych w ptyhonie\n",
    "## Wektor wierszowy i kolumnowy \n",
    "Do rachunków użyać będziemy mdułu `numpy`, a to rysowania modułu `pylab`. Zaimportujmy je:"
   ]
  },
  {
   "cell_type": "code",
   "execution_count": null,
   "metadata": {
    "collapsed": true
   },
   "outputs": [],
   "source": [
    "import numpy as np\n",
    "import pylab as py"
   ]
  },
  {
   "cell_type": "markdown",
   "metadata": {},
   "source": [
    "Natywnym typem zmiennych w numpy są tablice czyli `array`.\n",
    "\n",
    "Aczkolwiek są one wielowymiarowe i przy pomocy indeksowania i pobierania wycinków można się nimi sprawnie posługiwać to nie są one domyślnie macierzami w sensie matematycznym. \n",
    "\n",
    "Aby uprawiać przy ich pomocy algebrę musimy nadać im kształt :-). Służy do tego metoda `reshape`.\n",
    "\n",
    "Aby zbadać własności tych obiektów proszę wykonać następujący kod:"
   ]
  },
  {
   "cell_type": "code",
   "execution_count": null,
   "metadata": {},
   "outputs": [],
   "source": [
    "x = np.array([1,2,3,4])\n",
    "print(len(x), x.shape)\n",
    "print('x: ',x)\n",
    "print('transponowany x: ',x.T)"
   ]
  },
  {
   "cell_type": "markdown",
   "metadata": {},
   "source": [
    "Czy tablica x i transponowana tablica x się różnią?\n",
    "\n",
    "A teraz proszę wykonać następujący kod:"
   ]
  },
  {
   "cell_type": "code",
   "execution_count": null,
   "metadata": {},
   "outputs": [],
   "source": [
    "x = np.array([1,2,3,4]).reshape(4,1)\n",
    "print(len(x), x.shape)\n",
    "print('x: ',x)\n",
    "print('transponowany x: ',x.T)"
   ]
  },
  {
   "cell_type": "markdown",
   "metadata": {},
   "source": [
    "Proszę sprawdzić kształt i transpozycję macierzy 2x2, np. \n",
    "$A =\n",
    "\\left[\n",
    "\\begin{array}{cc}\n",
    "1 & 2 \\\\\n",
    "3 & 4\n",
    "\\end{array}\n",
    "\\right]\n",
    "$"
   ]
  },
  {
   "cell_type": "code",
   "execution_count": null,
   "metadata": {},
   "outputs": [],
   "source": [
    "A = np.array([[1,2],[3,4]])\n",
    "print(A)"
   ]
  },
  {
   "cell_type": "markdown",
   "metadata": {},
   "source": [
    "Operator `*` służy do mnożenia macierzy element po elemencie, albo do mnożenia macierzy przez skalar:"
   ]
  },
  {
   "cell_type": "code",
   "execution_count": null,
   "metadata": {},
   "outputs": [],
   "source": [
    "print(A*A)"
   ]
  },
  {
   "cell_type": "code",
   "execution_count": null,
   "metadata": {},
   "outputs": [],
   "source": [
    "print(2*A)"
   ]
  },
  {
   "cell_type": "code",
   "execution_count": null,
   "metadata": {},
   "outputs": [],
   "source": [
    "v = np.array([3])\n",
    "print(v*A)"
   ]
  },
  {
   "cell_type": "markdown",
   "metadata": {},
   "source": [
    "Do wykonywania mnożenia w sensie macierzowym służy funkcja `np.dot`:"
   ]
  },
  {
   "cell_type": "code",
   "execution_count": null,
   "metadata": {},
   "outputs": [],
   "source": [
    "print(np.dot(A,A))"
   ]
  },
  {
   "cell_type": "markdown",
   "metadata": {},
   "source": [
    "Przeanalizuj, co robią następujące polecenia:"
   ]
  },
  {
   "cell_type": "code",
   "execution_count": null,
   "metadata": {},
   "outputs": [],
   "source": [
    "x = np.array([1,2,3,4]).reshape(4,1)\n",
    "print(x)"
   ]
  },
  {
   "cell_type": "code",
   "execution_count": null,
   "metadata": {},
   "outputs": [],
   "source": [
    "print(np.dot(x.T,x))"
   ]
  },
  {
   "cell_type": "code",
   "execution_count": null,
   "metadata": {},
   "outputs": [],
   "source": [
    "print(np.dot(x,x.T))"
   ]
  },
  {
   "cell_type": "markdown",
   "metadata": {},
   "source": [
    "# Zapoznanie się z regresją liniową\n",
    "* Wytworzymy dane, które wykorzystamy dalej.\n",
    "* Symuowana zalezność ma nastepującą postać $y = \\theta_0 + \\theta_1 x$   \n",
    "* `(X,Y)` to ciąg uczący."
   ]
  },
  {
   "cell_type": "markdown",
   "metadata": {
    "collapsed": true
   },
   "source": [
    "Najpierw wytwarzamy `x`:"
   ]
  },
  {
   "cell_type": "code",
   "execution_count": null,
   "metadata": {},
   "outputs": [],
   "source": [
    "ile = 10\n",
    "x = np.linspace(0, 10,ile).reshape(ile,1)\n",
    "print(x)"
   ]
  },
  {
   "cell_type": "markdown",
   "metadata": {},
   "source": [
    "Do dalszych rachunków macierzowych przyda się `X`, w którym pierwszą kolumną jest kolumna jedynek , zaś drugą jest `x`:"
   ]
  },
  {
   "cell_type": "code",
   "execution_count": null,
   "metadata": {},
   "outputs": [],
   "source": [
    "X = np.ones((ile,2))\n",
    "X[:,1] = ...\n",
    "print(X)"
   ]
  },
  {
   "cell_type": "markdown",
   "metadata": {},
   "source": [
    "Ustalamy parametry dla symulacji $\\theta_0 = 1$ i $\\theta_1 = 3$:"
   ]
  },
  {
   "cell_type": "code",
   "execution_count": null,
   "metadata": {},
   "outputs": [],
   "source": [
    "theta = np.array(...).reshape(...) # theta ma być wektorem kolumnowym\n",
    "print(theta)"
   ]
  },
  {
   "cell_type": "markdown",
   "metadata": {},
   "source": [
    "Wytwarzamy `y`:"
   ]
  },
  {
   "cell_type": "code",
   "execution_count": null,
   "metadata": {},
   "outputs": [],
   "source": [
    "Y =  np.dot(X,theta) + 3*np.random.randn(ile,1)\n",
    "print(Y)"
   ]
  },
  {
   "cell_type": "markdown",
   "metadata": {},
   "source": [
    "Obejrzyjmy te dane:"
   ]
  },
  {
   "cell_type": "code",
   "execution_count": null,
   "metadata": {},
   "outputs": [],
   "source": [
    "py.plot(X[:,1], Y,'bo')\n",
    "py.show()"
   ]
  },
  {
   "cell_type": "markdown",
   "metadata": {},
   "source": [
    "## Algorytm równań normalnych\n",
    "Proszę napisać funkcję, która:\n",
    "* na wejściu przyjmuje ciąg uczący, implementuje wzór na parametry optymalne na podstawie [równań normalnych](http://brain.fuw.edu.pl/edu/index.php/Uczenie_maszynowe_i_sztuczne_sieci_neuronowe/Wykład_1#Minimalizacja_funkcji_kosztu ). \n",
    "* Funkcja powinna zwracać estymowane parametry theta.\n",
    "* Proszę dorysować prostą reprezentującą hipotezę do wykresu punktów ciągu uczącego.\n",
    "* dla przypomnienia: odwrotność macierzy można obliczyć w numpy funkcją: <tt>numpy.linalg.inv</tt>"
   ]
  },
  {
   "cell_type": "code",
   "execution_count": null,
   "metadata": {},
   "outputs": [],
   "source": [
    "def licz_rownania_normalne(X,Y):\n",
    "    theta = ...\n",
    "    return theta\n",
    "\n",
    "theta_est = licz_rownania_normalne(X,Y)\n",
    "print(\"prawdziwe wartości parametrów: \", theta.T)\n",
    "print(\"wartości estymowane za pomocą równań normalnych: \", theta_est.T)\n",
    "py.plot(X[:,1], Y,'bo')\n",
    "y_reg = np.dot(X,theta_est) \n",
    "py.plot(X[:,1],y_reg,'g')\n",
    "py.xlabel(\"x\")\n",
    "py.ylabel(\"y\")\n",
    "py.title(u\"Regresja z równań normalnych\")\n",
    "py.show()"
   ]
  },
  {
   "cell_type": "markdown",
   "metadata": {},
   "source": [
    "## Algorytm gradientowy stochastyczny \n",
    "Proszę napisać funkcję, która znajduje optymalne parametry theta wg. algorytmu gradientowego stochastycznego. Funkcja jako argumenty przyjmuje ciąg uczący, wartości początkowe theta i parametr szybkości zbiegania alpha.\n",
    "Na wyjściu funkcja powinna zwracać wyestymowane wartości parametrów.\n",
    "\n",
    "W ramach ilustracji po każdej iteracji proszę dorysować prostą parametryzowaną przez aktualne wartości parametrów. "
   ]
  },
  {
   "cell_type": "code",
   "execution_count": null,
   "metadata": {},
   "outputs": [],
   "source": [
    "def licz_iteracyjnie_stoch(X,Y,theta0 = np.array([0,0]).reshape(2,1), alpha = 0.01):\n",
    "    for i in range(200):\n",
    "        ind = np.random.randint(X.shape[0])\n",
    "        # mały x to wejście pojedynczego przykładu o indeksie ind\n",
    "        x = X[...]\n",
    "        x = x.reshape(1,len(x))\n",
    "        theta0 = theta0 - ...\n",
    "    return theta0\n",
    "\n",
    "theta_est = licz_iteracyjnie_stoch(X,Y)\n",
    "print(\"prawdziwe wartości parametrów: \", theta.T)\n",
    "print(\"wartości estymowane za pomocą algorytmu gradientowego stochastycznego: \", theta_est.T)\n",
    "py.plot(X[:,1], Y,'bo')\n",
    "y_reg = np.dot(X,theta_est) \n",
    "py.plot(X[:,1],y_reg,'g')\n",
    "py.xlabel(\"x\")\n",
    "py.ylabel(\"y\")\n",
    "py.title(u\"Regresja z alg. grad. stochastycznego\")\n",
    "py.show()"
   ]
  },
  {
   "cell_type": "markdown",
   "metadata": {},
   "source": [
    "## Algortym gradientowy zbiorczy\n",
    "Proszę napisać funkcję, która znajduje optymalne parametry theta wg. algorytmy gradientowego zbiorczego. Funkcja jako argumenty przyjmuje ciąg uczący, wartości początkowe theta i parametr szybkości zbiegania alpha.\n",
    "Na wyjściu funkcja powinna zwracać wyestymowane wartości parametrów.\n",
    "\n",
    "W ramach ilustracji po każdej iteracji proszę dorysować prostą parametryzowaną przez aktualne wartości parametrów. "
   ]
  },
  {
   "cell_type": "code",
   "execution_count": null,
   "metadata": {},
   "outputs": [],
   "source": [
    "def licz_iteracyjnie_batch(X,Y,theta0 = np.array([0,0]).reshape(2,1), alpha = 0.005):\n",
    "    delta = np.ones(len(theta0)).reshape(len(theta0),1)\n",
    "    for i in range(200):\n",
    "        delta = np.zeros((len(theta0),1))\n",
    "        for ind, x in enumerate(X):\n",
    "            # mały x to wejście pojedynczego przykładu \n",
    "            x = x.reshape(...)\n",
    "            delta += ( np.dot(x,theta0)- Y[ind])*x.T\n",
    "        theta0 = theta0 - alpha * delta \n",
    "    return theta0\n",
    "\n",
    "theta_est = licz_iteracyjnie_batch(X,Y)\n",
    "print(\"prawdziwe wartości parametrów: \", theta.T)\n",
    "print(\"wartości estymowane za pomocą algorytmu gradientowego zbiorczego: \", theta_est.T)\n",
    "py.plot(X[:,1], Y,'bo')\n",
    "y_reg = np.dot(X,theta_est) \n",
    "py.plot(X[:,1],y_reg,'g')\n",
    "py.xlabel(\"x\")\n",
    "py.ylabel(\"y\")\n",
    "py.title(u\"Regresja z alg. grad. zbiorczego\")\n",
    "py.show()"
   ]
  },
  {
   "cell_type": "markdown",
   "metadata": {},
   "source": [
    "## Porównanie algorytmów\n",
    "* Proszę sprawdzić zbieżność algorytmów w zależności od parametrów szybkości zbiegania.\n",
    "* Proszę sprawdzić czy algorytmy optymalizacyjne działają poprawnie dla danych gdzie błąd podlega innym rozkładom prawdopodobieństwa niż normalny. np. rozkład jednorodny lub  t o 3 st. swobody."
   ]
  },
  {
   "cell_type": "code",
   "execution_count": null,
   "metadata": {
    "collapsed": true
   },
   "outputs": [],
   "source": []
  }
 ],
 "metadata": {
  "anaconda-cloud": {},
  "kernelspec": {
   "display_name": "Python [conda root]",
   "language": "python",
   "name": "conda-root-py"
  },
  "language_info": {
   "codemirror_mode": {
    "name": "ipython",
    "version": 3
   },
   "file_extension": ".py",
   "mimetype": "text/x-python",
   "name": "python",
   "nbconvert_exporter": "python",
   "pygments_lexer": "ipython3",
   "version": "3.5.2"
  }
 },
 "nbformat": 4,
 "nbformat_minor": 2
}
