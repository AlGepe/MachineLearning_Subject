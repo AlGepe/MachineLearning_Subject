{
 "cells": [
  {
   "cell_type": "markdown",
   "metadata": {},
   "source": [
    "# Repetition of basic vector and matrix bills in ptyhonie\n",
    "## Row and column vector\n",
    "We will use bills numpy` for bills, and this is drawing the module `pylab`. Import them:"
   ]
  },
  {
   "cell_type": "code",
   "execution_count": 2,
   "metadata": {
    "collapsed": true
   },
   "outputs": [],
   "source": [
    "import numpy as np\n",
    "import pylab as py"
   ]
  },
  {
   "cell_type": "markdown",
   "metadata": {},
   "source": [
    "Native type of variables in numpy are arrays or array.\n",
    " \n",
    "Although they are multidimensional and can be used efficiently by indexing and extracting them, they are not matrices in the mathematical sense by default.\n",
    "\n",
    "In order to cultivate algebra with their help, we must give them the shape :-). The `reshape` method is used for this.\n",
    "\n",
    "To test the properties of these objects, please execute the following code:"
   ]
  },
  {
   "cell_type": "code",
   "execution_count": 3,
   "metadata": {},
   "outputs": [
    {
     "name": "stdout",
     "output_type": "stream",
     "text": [
      "4 (4,)\n",
      "x:  [1 2 3 4]\n",
      "Transpose x:  [1 2 3 4]\n"
     ]
    }
   ],
   "source": [
    "x = np.array([1,2,3,4])\n",
    "print(len(x), x.shape)\n",
    "print('x: ',x)\n",
    "print('Transpose x: ',x.T)"
   ]
  },
  {
   "cell_type": "markdown",
   "metadata": {},
   "source": [
    "Is array x and transposed array x different?\n",
    "\n",
    "And now please execute the following code:"
   ]
  },
  {
   "cell_type": "code",
   "execution_count": 4,
   "metadata": {},
   "outputs": [
    {
     "name": "stdout",
     "output_type": "stream",
     "text": [
      "4 (4, 1)\n",
      "x:  [[1]\n",
      " [2]\n",
      " [3]\n",
      " [4]]\n",
      "Transpose x:  [[1 2 3 4]]\n"
     ]
    }
   ],
   "source": [
    "x = np.array([1,2,3,4]).reshape(4,1)\n",
    "print(len(x), x.shape)\n",
    "print('x: ',x)\n",
    "print('Transpose x: ',x.T)"
   ]
  },
  {
   "cell_type": "markdown",
   "metadata": {},
   "source": [
    "Please check the shape and transposition of the 2x2 matrix, e.g.\n",
    "$A =\n",
    "\\left[\n",
    "\\begin{array}{cc}\n",
    "1 & 2 \\\\\n",
    "3 & 4\n",
    "\\end{array}\n",
    "\\right]\n",
    "$"
   ]
  },
  {
   "cell_type": "code",
   "execution_count": 5,
   "metadata": {},
   "outputs": [
    {
     "name": "stdout",
     "output_type": "stream",
     "text": [
      "[[1 2]\n",
      " [3 4]]\n"
     ]
    }
   ],
   "source": [
    "A = np.array([[1,2],[3,4]])\n",
    "print(A)"
   ]
  },
  {
   "cell_type": "markdown",
   "metadata": {},
   "source": [
    "The operator `*` is used to multiply the matrix element by element, or to multiply the matrix by a scalar:"
   ]
  },
  {
   "cell_type": "code",
   "execution_count": 6,
   "metadata": {},
   "outputs": [
    {
     "name": "stdout",
     "output_type": "stream",
     "text": [
      "[[ 1  4]\n",
      " [ 9 16]]\n"
     ]
    }
   ],
   "source": [
    "print(A*A)"
   ]
  },
  {
   "cell_type": "code",
   "execution_count": 7,
   "metadata": {},
   "outputs": [
    {
     "name": "stdout",
     "output_type": "stream",
     "text": [
      "[[2 4]\n",
      " [6 8]]\n"
     ]
    }
   ],
   "source": [
    "print(2*A)"
   ]
  },
  {
   "cell_type": "code",
   "execution_count": 8,
   "metadata": {},
   "outputs": [
    {
     "name": "stdout",
     "output_type": "stream",
     "text": [
      "[[ 3  6]\n",
      " [ 9 12]]\n"
     ]
    }
   ],
   "source": [
    "v = np.array([3])\n",
    "print(v*A)"
   ]
  },
  {
   "cell_type": "markdown",
   "metadata": {},
   "source": [
    "To perform multiplication in the matrix sense the `np.dot` function is used:"
   ]
  },
  {
   "cell_type": "code",
   "execution_count": 9,
   "metadata": {},
   "outputs": [
    {
     "name": "stdout",
     "output_type": "stream",
     "text": [
      "[[ 7 10]\n",
      " [15 22]]\n"
     ]
    }
   ],
   "source": [
    "print(np.dot(A,A))"
   ]
  },
  {
   "cell_type": "markdown",
   "metadata": {},
   "source": [
    "Analyze what the following commands do:"
   ]
  },
  {
   "cell_type": "code",
   "execution_count": 10,
   "metadata": {},
   "outputs": [
    {
     "name": "stdout",
     "output_type": "stream",
     "text": [
      "[[1]\n",
      " [2]\n",
      " [3]\n",
      " [4]]\n"
     ]
    }
   ],
   "source": [
    "x = np.array([1,2,3,4]).reshape(4,1)\n",
    "print(x)"
   ]
  },
  {
   "cell_type": "code",
   "execution_count": 11,
   "metadata": {},
   "outputs": [
    {
     "name": "stdout",
     "output_type": "stream",
     "text": [
      "[[30]]\n"
     ]
    }
   ],
   "source": [
    "print(np.dot(x.T,x))"
   ]
  },
  {
   "cell_type": "code",
   "execution_count": 12,
   "metadata": {},
   "outputs": [
    {
     "name": "stdout",
     "output_type": "stream",
     "text": [
      "[[ 1  2  3  4]\n",
      " [ 2  4  6  8]\n",
      " [ 3  6  9 12]\n",
      " [ 4  8 12 16]]\n"
     ]
    }
   ],
   "source": [
    "print(np.dot(x,x.T))"
   ]
  },
  {
   "cell_type": "markdown",
   "metadata": {},
   "source": [
    "# Familiarization with linear regression\n",
    "* We will create data that we will use later.\n",
    "* Our test function has the following form: $ y = \\theta_0 + \\theta_1 x $\n",
    "* `(X, Y)` is the training set.\n",
    "First, we produce `x`:"
   ]
  },
  {
   "cell_type": "code",
   "execution_count": 23,
   "metadata": {},
   "outputs": [
    {
     "name": "stdout",
     "output_type": "stream",
     "text": [
      "[[  0.        ]\n",
      " [  1.11111111]\n",
      " [  2.22222222]\n",
      " [  3.33333333]\n",
      " [  4.44444444]\n",
      " [  5.55555556]\n",
      " [  6.66666667]\n",
      " [  7.77777778]\n",
      " [  8.88888889]\n",
      " [ 10.        ]]\n"
     ]
    }
   ],
   "source": [
    "ile = 10\n",
    "x = np.linspace(0, 10,ile).reshape(ile, 1)\n",
    "print(x)"
   ]
  },
  {
   "cell_type": "markdown",
   "metadata": {},
   "source": [
    "For further matrix accounts, `X` is useful, in which the first column is the one-column, and the second is `x`:"
   ]
  },
  {
   "cell_type": "code",
   "execution_count": 120,
   "metadata": {},
   "outputs": [
    {
     "name": "stdout",
     "output_type": "stream",
     "text": [
      "[[  1.           0.        ]\n",
      " [  1.           1.11111111]\n",
      " [  1.           2.22222222]\n",
      " [  1.           3.33333333]\n",
      " [  1.           4.44444444]\n",
      " [  1.           5.55555556]\n",
      " [  1.           6.66666667]\n",
      " [  1.           7.77777778]\n",
      " [  1.           8.88888889]\n",
      " [  1.          10.        ]]\n"
     ]
    }
   ],
   "source": [
    "X = np.ones((ile,2))\n",
    "X[:,1] = x[:, 0]\n",
    "print(X)"
   ]
  },
  {
   "cell_type": "markdown",
   "metadata": {},
   "source": [
    "We set the parameters for the simulation $ \\ theta_0 = 1 $ and $ \\ theta_1 = 3 $:"
   ]
  },
  {
   "cell_type": "code",
   "execution_count": 72,
   "metadata": {},
   "outputs": [
    {
     "name": "stdout",
     "output_type": "stream",
     "text": [
      "[[1]\n",
      " [3]]\n"
     ]
    }
   ],
   "source": [
    "theta = np.array([1, 3]).reshape(2, 1) # theta must be a columned vector\n",
    "print(theta)"
   ]
  },
  {
   "cell_type": "markdown",
   "metadata": {},
   "source": [
    "We produce: `y`"
   ]
  },
  {
   "cell_type": "code",
   "execution_count": 126,
   "metadata": {},
   "outputs": [
    {
     "name": "stdout",
     "output_type": "stream",
     "text": [
      "[[ -0.97153671]\n",
      " [  6.82194603]\n",
      " [  6.72016988]\n",
      " [ 14.4964768 ]\n",
      " [ 10.55536474]\n",
      " [ 13.44099088]\n",
      " [ 13.11526219]\n",
      " [ 28.38953951]\n",
      " [ 25.60460166]\n",
      " [ 26.29176447]]\n"
     ]
    }
   ],
   "source": [
    "Y =  np.dot(X,theta) + 3*np.random.randn(ile,1)\n",
    "print(Y)"
   ]
  },
  {
   "cell_type": "markdown",
   "metadata": {},
   "source": [
    "Let's see this data:"
   ]
  },
  {
   "cell_type": "code",
   "execution_count": 40,
   "metadata": {},
   "outputs": [
    {
     "data": {
      "image/png": "[encoded data removed]",
      "text/plain": [
       "<matplotlib.figure.Figure at 0x7f38c83aad30>"
      ]
     },
     "metadata": {},
     "output_type": "display_data"
    }
   ],
   "source": [
    "py.plot(X[:,1], Y,'bo')\n",
    "py.show()"
   ]
  },
  {
   "cell_type": "markdown",
   "metadata": {},
   "source": [
    "## The algorithm of normal equations\n",
    "Please write a function that:\n",
    "* on the input, takes the training set, implements the formula for optimal parameters based on [normal equations](http://brain.fuw.edu.pl/edu/index.php/Uczenie_maszynowe_i_sztuczne_sieci_neuronowe/Wykład_1#Minimalizacja_funkcji_ksztsztu).\n",
    "* The function should return the theta parameters estimated.\n",
    "* Please draw a line representing the hypothesis to the learning points diagram.\n",
    "* as a reminder: the inverse of the matrix can be calculated in numpy with the function: <tt> numpy.linalg.inv </tt>"
   ]
  },
  {
   "cell_type": "code",
   "execution_count": 127,
   "metadata": {},
   "outputs": [
    {
     "name": "stdout",
     "output_type": "stream",
     "text": [
      "real parameters:  [[1 3]]\n",
      "values estimated using normal equations:  [[ 1.24817257  2.63965708]]\n"
     ]
    },
    {
     "data": {
      "image/png": "[encoded data removed]",
      "text/plain": [
       "<matplotlib.figure.Figure at 0x7f38c7d445f8>"
      ]
     },
     "metadata": {},
     "output_type": "display_data"
    }
   ],
   "source": [
    "def licz_rownania_normalne(X,Y):\n",
    "    xTx = np.dot(np.transpose(X), X)\n",
    "    xTy = np.dot(np.transpose(X), Y)\n",
    "    theta = np.dot(np.linalg.inv(xTx), xTy)\n",
    "    return theta\n",
    "\n",
    "theta_est = licz_rownania_normalne(X,Y)\n",
    "print(\"real parameters: \", theta.T)\n",
    "print(\"values estimated using normal equations: \", theta_est.T)\n",
    "py.plot(X[:,1], Y,'bo')\n",
    "y_reg = np.dot(X,theta_est) \n",
    "py.plot(X[:,1],y_reg,'g')\n",
    "py.xlabel(\"x\")\n",
    "py.ylabel(\"y\")\n",
    "py.title(u\"Linear Regression\")\n",
    "py.show()"
   ]
  },
  {
   "cell_type": "markdown",
   "metadata": {},
   "source": [
    "## Stochastic gradient algorithm\n",
    "Please write a function that finds theta optimal parameters by <tt>stochastic gradient algorithm</tt>. The function takes as arguments the training set, theta initial values and the learning rate (alpha).\n",
    "At the output, the function should return the parameter values that were estimated.\n",
    "\n",
    "As an illustration after each iteration, please draw a simple parameterized by the current parameter values."
   ]
  },
  {
   "cell_type": "code",
   "execution_count": 128,
   "metadata": {},
   "outputs": [
    {
     "name": "stdout",
     "output_type": "stream",
     "text": [
      "prawdziwe wartości parametrów:  [[1 3]]\n",
      "values estimated using the stochastic gradient algorithm:  [[ 1.81376068  3.08716349]]\n"
     ]
    },
    {
     "data": {
      "image/png": "[encoded data removed]",
      "text/plain": [
       "<matplotlib.figure.Figure at 0x7f38c7d70a20>"
      ]
     },
     "metadata": {},
     "output_type": "display_data"
    }
   ],
   "source": [
    "def licz_iteracyjnie_stoch(X,Y,theta0 = np.array([0,0]).reshape(2,1), alpha = 0.01):\n",
    "    for i in range(2000):\n",
    "        ind = np.random.randint(X.shape[0])\n",
    "        # small x is the entry of a single example with an ind index\n",
    "        x = X[ind, :]\n",
    "        y = Y[ind, :]\n",
    "        x = x.reshape(1,len(x))\n",
    "        #print(\"test: \", np.dot(x, theta0))\n",
    "        h_theta = np.dot(x, theta0)\n",
    "        partValue = (h_theta - y) * x\n",
    "        #if i == 0 : print(theta0)\n",
    "        theta0 = theta0 - alpha * np.transpose(partValue)\n",
    "    return theta0\n",
    "\n",
    "theta_est = licz_iteracyjnie_stoch(X,Y)\n",
    "print(\"prawdziwe wartości parametrów: \", theta.T)\n",
    "print(\"values estimated using the stochastic gradient algorithm: \", theta_est.T)\n",
    "py.plot(X[:,1], Y,'bo')\n",
    "y_reg = np.dot(X,theta_est) \n",
    "py.plot(X[:,1],y_reg,'g')\n",
    "py.xlabel(\"x\")\n",
    "py.ylabel(\"y\")\n",
    "py.title(u\"Regresja z alg. grad. stochastycznego\")\n",
    "py.show()"
   ]
  },
  {
   "cell_type": "markdown",
   "metadata": {},
   "source": [
    "## Algorithm cumulative summary\n",
    "Please write a function that finds theta optimal parameters by <tt>batch gradient</tt> algorithms. The function takes as arguments the training set, theta initial values and the learning rate (alpha).\n",
    "At the output, the function should return the parameter values that were estimated.\n",
    "\n",
    "As an illustration after each iteration, please draw a simple parameterized by the current parameter values."
   ]
  },
  {
   "cell_type": "code",
   "execution_count": 129,
   "metadata": {},
   "outputs": [
    {
     "name": "stdout",
     "output_type": "stream",
     "text": [
      "prawdziwe wartości parametrów:  [[1 3]]\n",
      "wartości estymowane za pomocą algorytmu gradientowego zbiorczego:  [[ 1.24817257  2.63965708]]\n"
     ]
    },
    {
     "data": {
      "image/png": "[encoded data removed]",
      "text/plain": [
       "<matplotlib.figure.Figure at 0x7f38c83a9da0>"
      ]
     },
     "metadata": {},
     "output_type": "display_data"
    }
   ],
   "source": [
    "def licz_iteracyjnie_batch(X,Y,theta0 = np.array([0,0]).reshape(2,1), alpha = 0.005):\n",
    "    delta = np.ones(len(theta0)).reshape(len(theta0),1)\n",
    "    for i in range(2000):\n",
    "        delta = np.zeros((len(theta0),1))\n",
    "        for ind, x in enumerate(X):\n",
    "            # small x is the entry of a single example\n",
    "            x = x.reshape(1, len(x))\n",
    "            delta += ( np.dot(x,theta0)- Y[ind])*x.T\n",
    "        theta0 = theta0 - alpha * delta \n",
    "    return theta0\n",
    "\n",
    "theta_est = licz_iteracyjnie_batch(X,Y)\n",
    "print(\"prawdziwe wartości parametrów: \", theta.T)\n",
    "print(\"wartości estymowane za pomocą algorytmu gradientowego zbiorczego: \", theta_est.T)\n",
    "py.plot(X[:,1], Y,'bo')\n",
    "y_reg = np.dot(X,theta_est) \n",
    "py.plot(X[:,1],y_reg,'g')\n",
    "py.xlabel(\"x\")\n",
    "py.ylabel(\"y\")\n",
    "py.title(u\"Regresja z alg. grad. zbiorczego\")\n",
    "py.show()"
   ]
  },
  {
   "cell_type": "markdown",
   "metadata": {},
   "source": [
    "## Comparison of algorithms\n",
    "* Please check the convergence of algorithms depending on the parameters of the convergence rate.\n",
    "* Please check if the optimization algorithms are working correctly for data where the error is subject to other probability distributions than normal. e.g., homogeneous distribution or t 3 degrees of freedom."
   ]
  }
 ],
 "metadata": {
  "anaconda-cloud": {},
  "kernelspec": {
   "display_name": "Python 3",
   "language": "python",
   "name": "python3"
  },
  "language_info": {
   "codemirror_mode": {
    "name": "ipython",
    "version": 3
   },
   "file_extension": ".py",
   "mimetype": "text/x-python",
   "name": "python",
   "nbconvert_exporter": "python",
   "pygments_lexer": "ipython3",
   "version": "3.6.3"
  }
 },
 "nbformat": 4,
 "nbformat_minor": 2
}
